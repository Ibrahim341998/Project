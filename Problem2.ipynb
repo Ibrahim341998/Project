{
  "nbformat": 4,
  "nbformat_minor": 0,
  "metadata": {
    "colab": {
      "provenance": [],
      "authorship_tag": "ABX9TyMdu96gsY2M8QgGYOgTPokU",
      "include_colab_link": true
    },
    "kernelspec": {
      "name": "python3",
      "display_name": "Python 3"
    },
    "language_info": {
      "name": "python"
    }
  },
  "cells": [
    {
      "cell_type": "markdown",
      "metadata": {
        "id": "view-in-github",
        "colab_type": "text"
      },
      "source": [
        "<a href=\"https://colab.research.google.com/github/Ibrahim341998/Project/blob/main/Problem2.ipynb\" target=\"_parent\"><img src=\"https://colab.research.google.com/assets/colab-badge.svg\" alt=\"Open In Colab\"/></a>"
      ]
    },
    {
      "cell_type": "code",
      "execution_count": 1,
      "metadata": {
        "colab": {
          "base_uri": "https://localhost:8080/"
        },
        "id": "Y1sXPWsIFHLj",
        "outputId": "f5985745-4e09-4d3c-b284-dca9048a9c2d"
      },
      "outputs": [
        {
          "output_type": "stream",
          "name": "stdout",
          "text": [
            "Looking in indexes: https://pypi.org/simple, https://us-python.pkg.dev/colab-wheels/public/simple/\n",
            "Requirement already satisfied: boto3 in /usr/local/lib/python3.8/dist-packages (1.26.58)\n",
            "Requirement already satisfied: jmespath<2.0.0,>=0.7.1 in /usr/local/lib/python3.8/dist-packages (from boto3) (1.0.1)\n",
            "Requirement already satisfied: s3transfer<0.7.0,>=0.6.0 in /usr/local/lib/python3.8/dist-packages (from boto3) (0.6.0)\n",
            "Requirement already satisfied: botocore<1.30.0,>=1.29.58 in /usr/local/lib/python3.8/dist-packages (from boto3) (1.29.58)\n",
            "Requirement already satisfied: urllib3<1.27,>=1.25.4 in /usr/local/lib/python3.8/dist-packages (from botocore<1.30.0,>=1.29.58->boto3) (1.26.14)\n",
            "Requirement already satisfied: python-dateutil<3.0.0,>=2.1 in /usr/local/lib/python3.8/dist-packages (from botocore<1.30.0,>=1.29.58->boto3) (2.8.2)\n",
            "Requirement already satisfied: six>=1.5 in /usr/local/lib/python3.8/dist-packages (from python-dateutil<3.0.0,>=2.1->botocore<1.30.0,>=1.29.58->boto3) (1.15.0)\n"
          ]
        }
      ],
      "source": [
        "!pip install boto3"
      ]
    },
    {
      "cell_type": "code",
      "source": [
        "import boto3\n",
        "from PIL import Image\n",
        "\n",
        "aws_access_key_id = \"\"\n",
        "aws_secret_access_key = \"\"\n",
        "bucket_from = \"\"\n",
        "bucket_to = \"\"\n",
        "\n",
        "s3 = boto3.resource(\n",
        "    's3',\n",
        "    aws_access_key_id=aws_access_key_id,\n",
        "    aws_secret_access_key = aws_secret_access_key\n",
        ")\n",
        "\n",
        "src = s3.Bucket(bucket_from)\n",
        "\n",
        "image = Image.open(src).convert('RGBA')\n",
        "alpha_range = image.getextrema()[-1]\n",
        "\n",
        "for archive in image.objects.all():\n",
        "  if alpha_range == (255,255):\n",
        "    s3.meta.client.copy_object(\n",
        "            ACL='public-read',\n",
        "            Bucket=bucket_to,\n",
        "            CopySource={'Bucket': bucket_from, 'Key': archive.key},\n",
        "            Key=archive.key\n",
        "    )"
      ],
      "metadata": {
        "id": "v8hLVVSsHRtO"
      },
      "execution_count": null,
      "outputs": []
    }
  ]
}